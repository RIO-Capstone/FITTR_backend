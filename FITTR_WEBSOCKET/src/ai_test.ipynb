{
 "cells": [
  {
   "cell_type": "code",
   "execution_count": 5,
   "metadata": {},
   "outputs": [],
   "source": [
    "import pandas as pd\n",
    "import ollama\n",
    "import numpy as np\n",
    "import matplotlib.pyplot as plt\n",
    "from typing import List\n",
    "import json\n",
    "from datetime import datetime, timedelta\n",
    "import random"
   ]
  },
  {
   "cell_type": "code",
   "execution_count": 10,
   "metadata": {},
   "outputs": [
    {
     "name": "stdout",
     "output_type": "stream",
     "text": [
      "['4 years ago, I was lost.\\n', 'Today, I stood on both sides of the mentorship table.\\n', 'Something remarkable happened: I spoke at two universities in one day at Singapore University of Technology and Design (SUTD) and NUS ENterprise House (N-House). \\n', 'I started as a speaker, ended as a mentor to bright-eyed student entrepreneurs.\\n', 'Walking into those rooms, memories flooded back:\\n', '- The uncertainty\\n', '- The late-night ideation sessions\\n', '- The fear of failure\\n', '- The endless questions\\n', 'But this time was different.\\n', 'I saw myself in their eyes - that same hunger, that same spark. Except now, I could offer what I desperately needed back then: guidance.\\n', 'The conversations were electric:\\n', '• Raw ideas becoming structured plans\\n', '• Vague dreams transforming into actionable steps\\n', '• Questions I once asked now had answers\\n', 'Most profound moment?\\n', 'When a student said: \"I\\'m exactly where you were.\"\\n', 'That hit home.\\n', \"This journey from mentee to mentor wasn't planned. But it highlighted something crucial:\\n\", \"Success isn't just about climbing higher.\\n\", \"It's about reaching back to pull others up.\\n\", \"These universities aren't just buildings - they're innovation hubs where dreams take shape.\\n\", 'To every aspiring entrepreneur I met last night:\\n', \"Your questions weren't just questions.\\n\", \"They were glimpses of tomorrow's solutions.\\n\", 'Keep pushing boundaries.\\n', 'Keep asking questions.\\n', 'Keep building.\\n', 'Remember: Every successful founder was once in your shoes, wondering if their crazy idea could work.\\n', 'P.S. To my mentors who guided a lost soul 1 year ago - thank you. Today, I finally understood the joy you felt watching us grow.\\n', 'Meet PLATO by Sophi Pte. Ltd. ⚖️\\n', \"We're back after 3x business pivots. \\n\", \"Now, we're empowering attorneys to expand their practice across states & provinces through AI-powered adaptive learning pathways, \\n\", \"that map jurisdiction-specific legal frameworks under every Lawyer's belt.\\n\", 'An exciting piece of news to share! \\n', \"In light of Plato Labs' recent incorporation in Singapore with ACRA - Accounting and Corporate Regulatory Authority\\n\", \"I'm pleased to announce that I’ll be taking on the role of Director & CEO of PLATO!\\n\", \"To those that don't see results, because I still don't—believe. \\n\", 'Never lose sight of your vision, even if it takes many, many, many years. \\n', 'Play the infinite game in a world full of finite games.\\n', 'Follow our 0—1 story at PLATO\\n', 'Dear me, \\n', 'Had a short catchup with Tan Zhan Tiam 陳展田 yesterday. \\n', 'Conversations sparked, memories came flooding in ...\\n', 'And it reminded me that no matter how difficult your journey,\\n', 'Someone has been there too. \\n', \"Keep going Tan Zhan Tiam 陳展田, we'll both make it this 2025.\\n\", 'I’m happy to share that I’m starting a new position as Founding Engineer at Socrates Labs!\\n', 'A startup lesson that cost me everything:\\n', '\"I can do it all myself.\"\\n', 'Those 6 words killed my first startup.\\n', 'As a product designer turned software engineer, I prided myself on wearing multiple hats.\\n', 'Client meetings? ✅\\n', 'UI design? ✅\\n', 'Writing code? ✅\\n', 'I refused to delegate.\\n', 'I feared being seen as \"incompetent.\"\\n', 'I bought into the myth of the solo genius founder.\\n', 'My ego got in the way.\\n', 'The result?\\n', '→ Burned bridges\\n', '→ No collaboration\\n', '→ Zero innovation\\n', '→ Failed startup\\n', 'The work suffered because I tried to be everything to everyone.\\n', 'Today I know better:\\n', \"True strength isn't doing it all.\\n\", \"It's building the right team.\\n\", \"It's leveraging diverse perspectives.\\n\", \"It's fostering collaboration.\\n\", \"The best founders don't do everything.\\n\", 'They empower others to excel.\\n', 'My next venture? \\n', \"I'm doing things differently:\\n\", '✅ Clear role delegation\\n', '✅ Team-first mindset\\n', '✅ Open communication\\n', '✅ Shared responsibility\\n', \"Don't let pride cost you everything.\\n\", 'What leadership lessons have you learned the hard way?\\n', 'Share your story below.\\n', \"Your personal brand isn't just about your skills. \\n\", 'Think about why people choose Apple products. \\n', \"It's not about specs, features, or technical capabilities. \\n\", \"It's about the experience. The ecosystem. \\n\", 'The way it makes them feel. \\n', '………………………………… \\n', 'Your personal brand works the same way. \\n', \"People don't follow you because of your: \\n\", '- credentials \\n', '- achievements \\n', '- certificates \\n', '- years of experience \\n', 'They follow you because of: \\n', '- how you make them feel \\n', '- the way you communicate \\n', '- your unique perspective \\n', '- the value you bring \\n', '………………………………. \\n', 'I see folks focusing on: \\n', '\"20 years of industry experience\" \\n', '\"Top performer\" \\n', '\"Award winning professional\" \\n', \"But that's not what builds connection. \\n\", 'What builds connection is: \\n', '- sharing authentic stories \\n', '- helping others learn \\n', '- being genuinely helpful \\n', '- showing vulnerability \\n', '………………………………… \\n', 'Your audience connects with your: \\n', '- personality \\n', '- authenticity \\n', '- unique voice \\n', '- genuine desire to help \\n', 'Just like how Apple users love the seamless experience, \\n', 'your audience loves the genuine experience of connecting with you. \\n', '………………………………… \\n', 'Focus less on broadcasting achievements. \\n', 'Focus more on creating meaningful connections. \\n', \"That's how you build a memorable personal brand.\\n\", 'I used to hate Mandarin. \\n', '4 years of rigorous mother tongue studies left me feeling: \\n', '• Inadequate \\n', '• Embarrassed \\n', '• Defeated \\n', 'I became the center of ridicule in class. \\n', 'Not anymore. \\n', 'This year, I made a bold decision: \\n', '10 professional Mandarin lessons focused on business communication. \\n', 'Why the change? \\n', 'I realized something powerful: \\n', 'The language I once feared could become my greatest asset. \\n', 'Sure, I might never speak like a native. \\n', \"But that's not the point. \\n\", 'The real win? \\n', '• Expanding my network \\n', '• Building cultural bridges \\n', '• Creating deeper connections \\n', 'My next goal: \\n', 'Connect with more international students from China. \\n', 'Because the pain of growth is temporary. \\n', 'The pain of missed opportunities lasts forever. \\n', 'What language have you been avoiding that could transform your career? \\n', \"Share below - let's inspire each other to embrace the uncomfortable.\\n\", 'I believe in empowering people through technology, particularly in emerging spaces / frontier technology where innovation can create meaningful impact worldwide. \\n', 'My journey in technology spans 5+ years across multiple roles - growth hacker, brand strategist, engineer, designer, and product manager. This multidisciplinary background, combined with my Computer Science and Design engineering degree from SUTD, enables me to approach product development holistically. I specialize in building robust front-end applications using modern tech stacks including React, NextJS, Supabase, and Tailwind CSS, while maintaining a strong focus on user-centric design through tools like Figma and Framer.\\n', \"When I'm not building and designing technological solutions, I'm a certified ACE Fitness personal trainer who believes in maintaining a balanced lifestyle through fitness and continuous learning, particularly through philosophy and reading on the works of our greatest thinkers in history.\\n\", \"I'm always excited to connect with fellow innovators and businesses looking to leverage technology for growth. Let's explore how we can create impact together.\"]\n"
     ]
    }
   ],
   "source": [
    "with open(\"posts.txt\", \"r\") as f:\n",
    "    lines = f.readlines()\n",
    "print(lines)\n",
    "with open(\"posts.txt\", \"w\") as f:\n",
    "    for line in lines:\n",
    "        if line.strip():  # Check if the line is not empty\n",
    "            f.write(line)"
   ]
  },
  {
   "cell_type": "code",
   "execution_count": 9,
   "metadata": {},
   "outputs": [],
   "source": [
    "def randomize(iterable: List):\n",
    "    return sorted(iterable, key=lambda x: random.random())[0]"
   ]
  },
  {
   "cell_type": "code",
   "execution_count": 10,
   "metadata": {},
   "outputs": [],
   "source": [
    "class ExerciseSession:\n",
    "    def __init__(self):\n",
    "        self.duration = randomize([30,35,40,45,50,55,60]) # seconds\n",
    "        self.reps = randomize([10, 15, 20, 25, 30])\n",
    "        self.errors = randomize([0, 1, 2, 3, 4, 5])\n",
    "        self.exercise_type = random.choice([\"pushups\", \"situps\", \"pullups\", \"squats\",\"benchpress\",\"deadlift\",\"overheadpress\"])\n",
    "        self.created_at = datetime.now() - timedelta(days=randomize([1,2,3,4,5,6,7]))\n",
    "\n",
    "class User:\n",
    "    def __init__(self,first_name,fitness_goal,gender,date_of_birth):\n",
    "        self.first_name = first_name\n",
    "        self.fitness_goal = fitness_goal\n",
    "        self.gender = gender\n",
    "        self.date_of_birth = date_of_birth\n",
    "        self.weight = randomize([50, 55, 60, 65, 70, 75, 80])\n",
    "        self.height = randomize([150, 155, 160, 165, 170, 175, 180])\n",
    "    def get_age(self):\n",
    "        today = datetime.today()\n",
    "        return today.year - self.date_of_birth.year - ((today.month, today.day) < (self.date_of_birth.month, self.date_of_birth.day))"
   ]
  },
  {
   "cell_type": "code",
   "execution_count": 17,
   "metadata": {},
   "outputs": [],
   "source": [
    "\"\"\"\n",
    "Local prompt testing environment\n",
    "\"\"\"\n",
    "class AIAssistant:\n",
    "    def __init__(self,user:User):\n",
    "        self.model_name = \"mistral:latest\"\n",
    "        self.context = \"\"\n",
    "        self.user = user\n",
    "        greeting = \"Ms.\" if self.user.gender == \"female\" else \"Mr.\"\n",
    "        self.history = [{\"role\": \"system\", \n",
    "                        \"content\": \n",
    "                        f\"You are a fitness AI assistant for {greeting} {self.user.first_name}. {self.user.first_name} \\\n",
    "                        is {self.user.get_age()} years old and has the fitness goal of {self.user.fitness_goal}. \\\n",
    "                        {self.user.first_name} has a weight of {self.user.weight} kg and height of {self.user.height} meters. \\\n",
    "                        Use the information about {self.user.first_name} to provide fitness advice. \"}]\n",
    "\n",
    "    def populate_context(self, data:List[ExerciseSession])->None:\n",
    "        \"\"\"\n",
    "        Formats exercise session data into structured context.\n",
    "        \"\"\"\n",
    "        sessions = []\n",
    "        for session in data:\n",
    "            sessions.append({\n",
    "                \"exercise_type\": session.exercise_type,\n",
    "                \"duration\": session.duration,\n",
    "                \"reps\": session.reps,\n",
    "                \"errors\": session.errors,\n",
    "                \"created_at\": session.created_at.strftime(\"%Y-%m-%d %H:%M:%S\"),\n",
    "            })\n",
    "        \n",
    "        self.context = json.dumps({\n",
    "            \"user_sessions\": sessions\n",
    "        }, indent=4)\n",
    "\n",
    "    def reply(self,data:List[ExerciseSession])->str:\n",
    "        # data is always non-empty, logic handled in the get request\n",
    "        self.populate_context(data)\n",
    "        prompt = \"You are a personal trainer analyzing a user's workout history. \" + \\\n",
    "            \"The data contains parameters such as duration, reps, exercise type etc.\" + \\\n",
    "            \"Provide constructive feedback on their progress, including trends, improvements, \" + \\\n",
    "            \"and areas for enhancement using the session data provided. \" + \\\n",
    "            \"Apart from the session data also use the chat history to enhance your feedback.\" +\\\n",
    "            \" Use the following session data:\\n\" + self.context + \".\"\n",
    "        \n",
    "\n",
    "        self.history.append({\"role\": \"user\", \"content\": prompt})\n",
    "        #print(f\"Generating ai response...for user {self.user.id}\") # useless print statement just to see if the function was entered\n",
    "        response = ollama.chat(\n",
    "            model=self.model_name,\n",
    "            messages=self.history\n",
    "        )\n",
    "        \n",
    "        self.history.append({\"role\": \"assistant\", \"content\": response[\"message\"][\"content\"]})\n",
    "\n",
    "        return response[\"message\"][\"content\"]\n",
    "\n",
    "class SingletonAIAssistant:\n",
    "    _instance = None\n",
    "    @staticmethod\n",
    "    def get_instance(user:User):\n",
    "        if SingletonAIAssistant._instance is None:\n",
    "            SingletonAIAssistant._instance = AIAssistant(user=user)\n",
    "        return SingletonAIAssistant._instance"
   ]
  },
  {
   "cell_type": "code",
   "execution_count": 18,
   "metadata": {},
   "outputs": [],
   "source": [
    "assistant = SingletonAIAssistant.get_instance(User(\"John\",\"Slim\",\"male\",datetime(1990,1,1)))"
   ]
  },
  {
   "cell_type": "code",
   "execution_count": 20,
   "metadata": {},
   "outputs": [],
   "source": [
    "context = []\n",
    "for i in range(10):\n",
    "    context.append(ExerciseSession())"
   ]
  },
  {
   "cell_type": "code",
   "execution_count": 19,
   "metadata": {},
   "outputs": [
    {
     "data": {
      "text/plain": [
       "\" Hello John! Based on the workout data provided, I can see that you've been consistently working out for the past week. That's fantastic! Here are some insights and suggestions to help you reach your fitness goal of slimming down more effectively:\\n\\n1. **Strength Training**: You've been focusing on strength training exercises like deadlift, benchpress, squats, overhead press, and pull-ups. This is great for building muscle, which will aid in weight loss as muscle burns more calories at rest compared to fat.\\n\\n2. **Repetitions and Errors**: The number of repetitions seems good, but there are quite a few errors during your lifts. To minimize the risk of injury and improve your form, it's essential to focus on proper technique. Consider reducing the weight slightly if needed or seeking help from a certified fitness professional.\\n\\n3. **Consistency**: It's great that you've been working out consistently for the past week. Continue this consistency as it plays a crucial role in achieving your fitness goals.\\n\\n4. **Cardio**: While strength training is beneficial, adding some cardio exercises like running, cycling, or swimming can help increase calorie burn and aid in fat loss. Consider incorporating 2-3 days of moderate-intensity cardio per week.\\n\\n5. **Nutrition**: Exercise alone won't help you reach your goal; diet plays an essential role too. Focus on eating a balanced diet rich in lean proteins, fruits, vegetables, and whole grains while limiting processed foods and sugars.\\n\\n6. **Rest**: Make sure to give yourself enough rest between workout sessions. This allows your muscles time to recover and grow stronger. Adequate sleep is also crucial for recovery and overall health.\\n\\n7. **Progression**: Over time, gradually increase the intensity of your workouts (e.g., increasing weight or reps) to ensure continuous progress.\\n\\n8. Lastly, remember to stay motivated! Celebrate small victories along the way and keep your end goal in mind. If you ever need advice on how to adjust your workout routine or have any questions about your workouts, don't hesitate to reach out. I'm here to help!\\n\\nLet's keep up the good work, John! Looking forward to seeing your progress.\""
      ]
     },
     "execution_count": 19,
     "metadata": {},
     "output_type": "execute_result"
    }
   ],
   "source": [
    "assistant.reply(context)"
   ]
  }
 ],
 "metadata": {
  "kernelspec": {
   "display_name": "capstone",
   "language": "python",
   "name": "python3"
  },
  "language_info": {
   "codemirror_mode": {
    "name": "ipython",
    "version": 3
   },
   "file_extension": ".py",
   "mimetype": "text/x-python",
   "name": "python",
   "nbconvert_exporter": "python",
   "pygments_lexer": "ipython3",
   "version": "3.11.10"
  }
 },
 "nbformat": 4,
 "nbformat_minor": 2
}
