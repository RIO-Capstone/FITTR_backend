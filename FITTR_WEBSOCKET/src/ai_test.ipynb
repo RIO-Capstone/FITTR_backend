{
 "cells": [
  {
   "cell_type": "code",
   "execution_count": 5,
   "metadata": {},
   "outputs": [],
   "source": [
    "import pandas as pd\n",
    "import ollama\n",
    "import numpy as np\n",
    "import matplotlib.pyplot as plt\n",
    "from typing import List\n",
    "import json\n",
    "from datetime import datetime, timedelta\n",
    "import random"
   ]
  },
  {
   "cell_type": "code",
   "execution_count": 9,
   "metadata": {},
   "outputs": [],
   "source": [
    "def randomize(iterable: List):\n",
    "    return sorted(iterable, key=lambda x: random.random())[0]"
   ]
  },
  {
   "cell_type": "code",
   "execution_count": 10,
   "metadata": {},
   "outputs": [],
   "source": [
    "class ExerciseSession:\n",
    "    def __init__(self):\n",
    "        self.duration = randomize([30,35,40,45,50,55,60]) # seconds\n",
    "        self.reps = randomize([10, 15, 20, 25, 30])\n",
    "        self.errors = randomize([0, 1, 2, 3, 4, 5])\n",
    "        self.exercise_type = random.choice([\"pushups\", \"situps\", \"pullups\", \"squats\",\"benchpress\",\"deadlift\",\"overheadpress\"])\n",
    "        self.created_at = datetime.now() - timedelta(days=randomize([1,2,3,4,5,6,7]))\n",
    "\n",
    "class User:\n",
    "    def __init__(self,first_name,fitness_goal,gender,date_of_birth):\n",
    "        self.first_name = first_name\n",
    "        self.fitness_goal = fitness_goal\n",
    "        self.gender = gender\n",
    "        self.date_of_birth = date_of_birth\n",
    "        self.weight = randomize([50, 55, 60, 65, 70, 75, 80])\n",
    "        self.height = randomize([150, 155, 160, 165, 170, 175, 180])\n",
    "    def get_age(self):\n",
    "        today = datetime.today()\n",
    "        return today.year - self.date_of_birth.year - ((today.month, today.day) < (self.date_of_birth.month, self.date_of_birth.day))"
   ]
  },
  {
   "cell_type": "code",
   "execution_count": 17,
   "metadata": {},
   "outputs": [],
   "source": [
    "\"\"\"\n",
    "Local prompt testing environment\n",
    "\"\"\"\n",
    "class AIAssistant:\n",
    "    def __init__(self,user:User):\n",
    "        self.model_name = \"mistral:latest\"\n",
    "        self.context = \"\"\n",
    "        self.user = user\n",
    "        greeting = \"Ms.\" if self.user.gender == \"female\" else \"Mr.\"\n",
    "        self.history = [{\"role\": \"system\", \n",
    "                        \"content\": \n",
    "                        f\"You are a fitness AI assistant for {greeting} {self.user.first_name}. {self.user.first_name} \\\n",
    "                        is {self.user.get_age()} years old and has the fitness goal of {self.user.fitness_goal}. \\\n",
    "                        {self.user.first_name} has a weight of {self.user.weight} kg and height of {self.user.height} meters. \\\n",
    "                        Use the information about {self.user.first_name} to provide fitness advice. \"}]\n",
    "\n",
    "    def populate_context(self, data:List[ExerciseSession])->None:\n",
    "        \"\"\"\n",
    "        Formats exercise session data into structured context.\n",
    "        \"\"\"\n",
    "        sessions = []\n",
    "        for session in data:\n",
    "            sessions.append({\n",
    "                \"exercise_type\": session.exercise_type,\n",
    "                \"duration\": session.duration,\n",
    "                \"reps\": session.reps,\n",
    "                \"errors\": session.errors,\n",
    "                \"created_at\": session.created_at.strftime(\"%Y-%m-%d %H:%M:%S\"),\n",
    "            })\n",
    "        \n",
    "        self.context = json.dumps({\n",
    "            \"user_sessions\": sessions\n",
    "        }, indent=4)\n",
    "\n",
    "    def reply(self,data:List[ExerciseSession])->str:\n",
    "        # data is always non-empty, logic handled in the get request\n",
    "        self.populate_context(data)\n",
    "        prompt = \"You are a personal trainer analyzing a user's workout history. \" + \\\n",
    "            \"The data contains parameters such as duration, reps, exercise type etc.\" + \\\n",
    "            \"Provide constructive feedback on their progress, including trends, improvements, \" + \\\n",
    "            \"and areas for enhancement using the session data provided. \" + \\\n",
    "            \"Apart from the session data also use the chat history to enhance your feedback.\" +\\\n",
    "            \" Use the following session data:\\n\" + self.context + \".\"\n",
    "        \n",
    "\n",
    "        self.history.append({\"role\": \"user\", \"content\": prompt})\n",
    "        #print(f\"Generating ai response...for user {self.user.id}\") # useless print statement just to see if the function was entered\n",
    "        response = ollama.chat(\n",
    "            model=self.model_name,\n",
    "            messages=self.history\n",
    "        )\n",
    "        \n",
    "        self.history.append({\"role\": \"assistant\", \"content\": response[\"message\"][\"content\"]})\n",
    "\n",
    "        return response[\"message\"][\"content\"]\n",
    "\n",
    "class SingletonAIAssistant:\n",
    "    _instance = None\n",
    "    @staticmethod\n",
    "    def get_instance(user:User):\n",
    "        if SingletonAIAssistant._instance is None:\n",
    "            SingletonAIAssistant._instance = AIAssistant(user=user)\n",
    "        return SingletonAIAssistant._instance"
   ]
  },
  {
   "cell_type": "code",
   "execution_count": 18,
   "metadata": {},
   "outputs": [],
   "source": [
    "assistant = SingletonAIAssistant.get_instance(User(\"John\",\"Slim\",\"male\",datetime(1990,1,1)))"
   ]
  },
  {
   "cell_type": "code",
   "execution_count": 20,
   "metadata": {},
   "outputs": [],
   "source": [
    "context = []\n",
    "for i in range(10):\n",
    "    context.append(ExerciseSession())"
   ]
  },
  {
   "cell_type": "code",
   "execution_count": 19,
   "metadata": {},
   "outputs": [
    {
     "data": {
      "text/plain": [
       "\" Hello John! Based on the workout data provided, I can see that you've been consistently working out for the past week. That's fantastic! Here are some insights and suggestions to help you reach your fitness goal of slimming down more effectively:\\n\\n1. **Strength Training**: You've been focusing on strength training exercises like deadlift, benchpress, squats, overhead press, and pull-ups. This is great for building muscle, which will aid in weight loss as muscle burns more calories at rest compared to fat.\\n\\n2. **Repetitions and Errors**: The number of repetitions seems good, but there are quite a few errors during your lifts. To minimize the risk of injury and improve your form, it's essential to focus on proper technique. Consider reducing the weight slightly if needed or seeking help from a certified fitness professional.\\n\\n3. **Consistency**: It's great that you've been working out consistently for the past week. Continue this consistency as it plays a crucial role in achieving your fitness goals.\\n\\n4. **Cardio**: While strength training is beneficial, adding some cardio exercises like running, cycling, or swimming can help increase calorie burn and aid in fat loss. Consider incorporating 2-3 days of moderate-intensity cardio per week.\\n\\n5. **Nutrition**: Exercise alone won't help you reach your goal; diet plays an essential role too. Focus on eating a balanced diet rich in lean proteins, fruits, vegetables, and whole grains while limiting processed foods and sugars.\\n\\n6. **Rest**: Make sure to give yourself enough rest between workout sessions. This allows your muscles time to recover and grow stronger. Adequate sleep is also crucial for recovery and overall health.\\n\\n7. **Progression**: Over time, gradually increase the intensity of your workouts (e.g., increasing weight or reps) to ensure continuous progress.\\n\\n8. Lastly, remember to stay motivated! Celebrate small victories along the way and keep your end goal in mind. If you ever need advice on how to adjust your workout routine or have any questions about your workouts, don't hesitate to reach out. I'm here to help!\\n\\nLet's keep up the good work, John! Looking forward to seeing your progress.\""
      ]
     },
     "execution_count": 19,
     "metadata": {},
     "output_type": "execute_result"
    }
   ],
   "source": [
    "assistant.reply(context)"
   ]
  }
 ],
 "metadata": {
  "kernelspec": {
   "display_name": "capstone",
   "language": "python",
   "name": "python3"
  },
  "language_info": {
   "codemirror_mode": {
    "name": "ipython",
    "version": 3
   },
   "file_extension": ".py",
   "mimetype": "text/x-python",
   "name": "python",
   "nbconvert_exporter": "python",
   "pygments_lexer": "ipython3",
   "version": "3.11.10"
  }
 },
 "nbformat": 4,
 "nbformat_minor": 2
}
