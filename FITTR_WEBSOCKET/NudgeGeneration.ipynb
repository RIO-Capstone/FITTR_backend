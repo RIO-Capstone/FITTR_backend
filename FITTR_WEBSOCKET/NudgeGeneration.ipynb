{
 "cells": [
  {
   "cell_type": "code",
   "execution_count": 1,
   "metadata": {},
   "outputs": [],
   "source": [
    "from mistralai import Mistral\n",
    "import json\n",
    "import os\n",
    "import re\n",
    "import datetime\n",
    "import random"
   ]
  },
  {
   "cell_type": "code",
   "execution_count": 2,
   "metadata": {},
   "outputs": [],
   "source": [
    "class User:\n",
    "    def __init__(self):\n",
    "        pass\n",
    "\n",
    "class ExerciseSession:\n",
    "    def __init__(self, exercise_type, duration, reps, errors, created_at):\n",
    "        self.exercise_type = exercise_type\n",
    "        self.duration = duration\n",
    "        self.reps = reps\n",
    "        self.errors = errors\n",
    "        self.created_at = created_at\n",
    "\n",
    "    def to_dict(self):\n",
    "        return {\n",
    "            \"exercise_type\": self.exercise_type,\n",
    "            \"duration\": self.duration,\n",
    "            \"reps\": self.reps,\n",
    "            \"errors\": self.errors,\n",
    "            \"created_at\": self.created_at.strftime(\"%Y-%m-%d %H:%M:%S\")\n",
    "        }\n",
    "\n",
    "# Function to generate random exercise session objects\n",
    "def generate_random_sessions(num_sessions):\n",
    "    exercise_types = [\"push-up\", \"squat\", \"deadlift\", \"bench press\", \"pull-up\"]\n",
    "    sessions = []\n",
    "\n",
    "    for _ in range(num_sessions):\n",
    "        exercise_type = random.choice(exercise_types)\n",
    "        duration = random.randint(20, 60)  # Duration in seconds\n",
    "        reps = random.randint(10, 30)  # Number of reps\n",
    "        errors = random.randint(0, 5)  # Number of errors\n",
    "        created_at = datetime.datetime.now() - datetime.timedelta(days=random.randint(0, 7))  # Random date within the last week\n",
    "\n",
    "        session = ExerciseSession(exercise_type, duration, reps, errors, created_at)\n",
    "        sessions.append(session)\n",
    "\n",
    "    return sessions\n",
    "\n",
    "# Generate a list of random exercise session objects\n",
    "random_sessions = generate_random_sessions(5)\n",
    "\n",
    "# Convert the list of objects to a list of dictionaries\n",
    "random_sessions = [session.to_dict() for session in random_sessions]"
   ]
  },
  {
   "cell_type": "code",
   "execution_count": null,
   "metadata": {},
   "outputs": [],
   "source": [
    "class AIAssistant:\n",
    "    def __init__(self, user: User):\n",
    "        self.api_key = \"API_KEY\"\n",
    "        self.model_name = \"mistral-large-latest\"\n",
    "        self.client = Mistral(api_key=self.api_key)\n",
    "        self.context = \"\"\n",
    "        self.history = [{\"role\": \"system\", \"content\": \"You are a fitness AI assistant. Keep your responses short and concise.\"}]\n",
    "\n",
    "    def populate_context(self, data) -> None:\n",
    "        \"\"\"\n",
    "        Formats exercise session data into structured context.\n",
    "        \"\"\"\n",
    "        sessions = []\n",
    "        for session in data:\n",
    "            sessions.append({\n",
    "                \"exercise_type\": session[\"exercise_type\"],\n",
    "                \"duration\": session[\"duration\"],\n",
    "                \"reps\": session[\"reps\"],\n",
    "                \"errors\": session[\"errors\"],\n",
    "                \"created_at\": session[\"created_at\"],\n",
    "            })\n",
    "\n",
    "        self.context = json.dumps({\n",
    "            \"user_sessions\": sessions\n",
    "        }, indent=4)\n",
    "\n",
    "    def generate_texts(self, data):\n",
    "        self.populate_context(data)\n",
    "        prompts = {\n",
    "            \"summary_advice\": \"Provide a concise summary of the user's workout performance and key takeaways.\",\n",
    "            \"summary_analysis\": \"Analyze the user's workout trends, improvements, and areas needing attention.\",\n",
    "            \"future_advice\": \"Give specific and actionable advice for improving future workouts based on past performance.\",\n",
    "            \"form_score\": \"Provide only a number (no words) between 1-100 for the user's form score based on their workout performance.\",\n",
    "            \"stability_score\": \"Provide only a number (no words) between 1-100 for the user's stability score based on their workout performance.\",\n",
    "            \"range_of_motion_score\": \"Provide only a number (no words) between 1-100 for the user's range of motion score based on their workout performance.\"\n",
    "        }\n",
    "\n",
    "        results = {}\n",
    "        for key, prompt in prompts.items():\n",
    "            full_prompt = (\n",
    "                f\"You are a personal trainer analyzing a user's workout history. Use the session data provided to {prompt} \"\n",
    "                f\"Here is the session data:\\n\"\n",
    "                f\"{self.context}\"\n",
    "            )\n",
    "            self.history.append({\"role\": \"user\", \"content\": full_prompt})\n",
    "\n",
    "            aiResponseObject = self.client.chat.complete(model=self.model_name,messages=self.history)\n",
    "            reply = aiResponseObject.choices[0].message.content\n",
    "            self.history.append({\"role\": \"assistant\", \"content\": reply})\n",
    "\n",
    "            # Extract numeric values for score-related fields\n",
    "            if key in [\"form_score\", \"stability_score\", \"range_of_motion_score\"]:\n",
    "                results[key] = self.extract_numeric_value(reply)\n",
    "            else:\n",
    "                results[key] = reply\n",
    "\n",
    "        return results\n",
    "    \n",
    "    def extract_numeric_value(self,text):\n",
    "        \"\"\"\n",
    "        Extracts the first numeric value from a text response.\n",
    "        If no number is found, it defaults to 0.\n",
    "        \"\"\"\n",
    "        match = re.search(r\"\\d+\", text)\n",
    "        return int(match.group()) if match else 0"
   ]
  },
  {
   "cell_type": "code",
   "execution_count": 8,
   "metadata": {},
   "outputs": [
    {
     "data": {
      "text/plain": [
       "{'summary_advice': '**Summary:**\\n- Consistent performance in bench press and deadlift (0 errors).\\n- Improvement in pull-ups (13 to 17 reps, 0 errors in the latest session).\\n- Push-ups need attention (5 errors).\\n\\n**Key Takeaways:**\\n- Maintain form for bench press and deadlift.\\n- Keep improving pull-ups.\\n- Focus on push-up form to reduce errors.',\n",
       " 'summary_analysis': '**Trends:** Regularly performing compound movements.\\n\\n**Improvements:**\\n- Pull-ups: Increased reps (13 to 17) and reduced errors (2 to 0).\\n- Bench press and deadlift: Consistently performing with no errors.\\n\\n**Areas Needing Attention:**\\n- Push-ups: High error rate (5 errors in 11 reps). Needs form improvement.',\n",
       " 'future_advice': '**Advice:**\\n- Maintain form for bench press, deadlift, and pull-ups.\\n- Focus on push-up form: Try incline push-ups or reduce speed to improve control.\\n- Increase pull-up duration to match reps and reduce fatigue.\\n- Consider adding variety to workouts, like squats or rows, to complement existing exercises.',\n",
       " 'form_score': 75,\n",
       " 'stability_score': 70,\n",
       " 'range_of_motion_score': 75}"
      ]
     },
     "execution_count": 8,
     "metadata": {},
     "output_type": "execute_result"
    }
   ],
   "source": [
    "assistant = AIAssistant(User())\n",
    "assistant.generate_texts(\n",
    "    data=random_sessions\n",
    ")"
   ]
  },
  {
   "cell_type": "code",
   "execution_count": null,
   "metadata": {},
   "outputs": [],
   "source": []
  }
 ],
 "metadata": {
  "kernelspec": {
   "display_name": "capstone",
   "language": "python",
   "name": "python3"
  },
  "language_info": {
   "codemirror_mode": {
    "name": "ipython",
    "version": 3
   },
   "file_extension": ".py",
   "mimetype": "text/x-python",
   "name": "python",
   "nbconvert_exporter": "python",
   "pygments_lexer": "ipython3",
   "version": "3.11.10"
  }
 },
 "nbformat": 4,
 "nbformat_minor": 2
}
